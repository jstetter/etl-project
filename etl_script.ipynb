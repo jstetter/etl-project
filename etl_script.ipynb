{
 "cells": [
  {
   "cell_type": "markdown",
   "metadata": {},
   "source": [
    "# Dependencies"
   ]
  },
  {
   "cell_type": "code",
   "execution_count": 47,
   "metadata": {},
   "outputs": [],
   "source": [
    "import pandas\n",
    "from keys import census_key\n",
    "import requests"
   ]
  },
  {
   "cell_type": "markdown",
   "metadata": {},
   "source": [
    "# Extract"
   ]
  },
  {
   "cell_type": "markdown",
   "metadata": {},
   "source": [
    "Read in population data"
   ]
  },
  {
   "cell_type": "code",
   "execution_count": 48,
   "metadata": {},
   "outputs": [],
   "source": [
    "population_data = pandas.read_csv('population_data.csv')"
   ]
  },
  {
   "cell_type": "markdown",
   "metadata": {},
   "source": [
    "Read in diversity data"
   ]
  },
  {
   "cell_type": "code",
   "execution_count": 49,
   "metadata": {},
   "outputs": [],
   "source": [
    "diversity_data = pandas.read_csv('diversityindex.csv')"
   ]
  },
  {
   "cell_type": "markdown",
   "metadata": {},
   "source": [
    "# Transform"
   ]
  },
  {
   "cell_type": "markdown",
   "metadata": {},
   "source": [
    "Filter out unnecessary columns"
   ]
  },
  {
   "cell_type": "code",
   "execution_count": 50,
   "metadata": {
    "scrolled": true
   },
   "outputs": [],
   "source": [
    "new_pop_data = population_data[['GEO.display-label','respop72013']]"
   ]
  },
  {
   "cell_type": "markdown",
   "metadata": {},
   "source": [
    "Clean county names and create a new column of names"
   ]
  },
  {
   "cell_type": "code",
   "execution_count": 51,
   "metadata": {},
   "outputs": [
    {
     "name": "stderr",
     "output_type": "stream",
     "text": [
      "C:\\Users\\Jake\\Anaconda3\\lib\\site-packages\\ipykernel_launcher.py:7: SettingWithCopyWarning: \n",
      "A value is trying to be set on a copy of a slice from a DataFrame.\n",
      "Try using .loc[row_indexer,col_indexer] = value instead\n",
      "\n",
      "See the caveats in the documentation: http://pandas.pydata.org/pandas-docs/stable/indexing.html#indexing-view-versus-copy\n",
      "  import sys\n"
     ]
    }
   ],
   "source": [
    "county_list = []\n",
    "for county in new_pop_data['GEO.display-label']:\n",
    "    try:\n",
    "        county_list.append(county.split(', ')[0])\n",
    "    except:\n",
    "        county_list.append(county)\n",
    "new_pop_data['County Name'] = county_list"
   ]
  },
  {
   "cell_type": "markdown",
   "metadata": {},
   "source": [
    "Create a list that contains the state and county part of each location"
   ]
  },
  {
   "cell_type": "code",
   "execution_count": 52,
   "metadata": {},
   "outputs": [],
   "source": [
    "state_lst = []\n",
    "county_lst2 = []\n",
    "for row in diversity_data['Location']:\n",
    "    try:\n",
    "        state_lst.append(row.split(', ')[1])\n",
    "        county_lst2.append(row.split(', ')[0])\n",
    "    except:\n",
    "        state_lst.append(row)\n",
    "        county_lst2.append(row)"
   ]
  },
  {
   "cell_type": "markdown",
   "metadata": {},
   "source": [
    "Use the newly created list to add a state column to the data table"
   ]
  },
  {
   "cell_type": "code",
   "execution_count": 53,
   "metadata": {},
   "outputs": [],
   "source": [
    "diversity_data['State'] = state_lst\n",
    "diversity_data['County Name'] = county_lst2"
   ]
  },
  {
   "cell_type": "markdown",
   "metadata": {},
   "source": [
    "Filter diversity data to only include data from California"
   ]
  },
  {
   "cell_type": "code",
   "execution_count": 54,
   "metadata": {},
   "outputs": [],
   "source": [
    "ca_diversity = diversity_data.loc[diversity_data['State']=='CA']"
   ]
  },
  {
   "cell_type": "markdown",
   "metadata": {},
   "source": [
    "combine tables on the county name"
   ]
  },
  {
   "cell_type": "code",
   "execution_count": 55,
   "metadata": {},
   "outputs": [],
   "source": [
    "combined_df = pandas.merge(ca_diversity, new_pop_data, on = 'County Name', how = 'left')"
   ]
  },
  {
   "cell_type": "markdown",
   "metadata": {},
   "source": [
    "Filter out unnecessary columns"
   ]
  },
  {
   "cell_type": "code",
   "execution_count": 56,
   "metadata": {
    "scrolled": true
   },
   "outputs": [],
   "source": [
    "combined_df = combined_df[['County Name', 'Black or African American alone, percent, 2013', 'American Indian and Alaska Native alone, percent, 2013', 'Asian alone, percent, 2013','Native Hawaiian and Other Pacific Islander alone, percent,', 'Two or More Races, percent, 2013', 'Hispanic or Latino, percent, 2013', 'White alone, not Hispanic or Latino, percent, 2013', 'respop72013']]"
   ]
  },
  {
   "cell_type": "markdown",
   "metadata": {},
   "source": [
    "Rename the columns to be more useful"
   ]
  },
  {
   "cell_type": "code",
   "execution_count": 57,
   "metadata": {},
   "outputs": [],
   "source": [
    "combined_df = combined_df.rename(columns = {'Black or African American alone, percent, 2013': '% Black or African American', 'American Indian and Alaska Native alone, percent, 2013':'% Native American or Alaska Native', 'Asian alone, percent, 2013':'% Asian', 'Native Hawaiian and Other Pacific Islander alone, percent,': '% Pacific Islander', 'Two or More Races, percent, 2013': '% Two or more', 'Hispanic or Latino, percent, 2013': '% Hispanic or Latino', 'White alone, not Hispanic or Latino, percent, 2013': '% White', 'respop72013':'Population' })"
   ]
  },
  {
   "cell_type": "markdown",
   "metadata": {},
   "source": [
    "Convert population data type from string to float"
   ]
  },
  {
   "cell_type": "code",
   "execution_count": 58,
   "metadata": {},
   "outputs": [],
   "source": [
    "combined_df['Population'] = combined_df['Population'].astype(float)"
   ]
  },
  {
   "cell_type": "markdown",
   "metadata": {},
   "source": [
    "Add in new columns to convert all percentages to numbers"
   ]
  },
  {
   "cell_type": "code",
   "execution_count": 59,
   "metadata": {},
   "outputs": [],
   "source": [
    "combined_df['# Black or African American'] = round(combined_df['% Black or African American']/100*combined_df['Population'],0)\n",
    "combined_df['# Native American or Alaska Native'] = round(combined_df['% Native American or Alaska Native']/100*combined_df['Population'],0)\n",
    "combined_df['# of Asian'] = round(combined_df['% Asian']/100*combined_df['Population'], 0)\n",
    "combined_df['# of Pacific Islander'] = round(combined_df['% Pacific Islander']/100*combined_df['Population'], 0)\n",
    "combined_df['# of Two or More'] = round(combined_df['% Two or more']/100*combined_df['Population'], 0)\n",
    "combined_df['# of Hispanic or Latino'] = round(combined_df['% Hispanic or Latino']/100*combined_df['Population'], 0)\n",
    "combined_df['# of White'] = round(combined_df['% White']/100*combined_df['Population'], 0)"
   ]
  },
  {
   "cell_type": "markdown",
   "metadata": {},
   "source": [
    "Filter out unnecessary columns"
   ]
  },
  {
   "cell_type": "code",
   "execution_count": 61,
   "metadata": {},
   "outputs": [
    {
     "data": {
      "text/html": [
       "<div>\n",
       "<style scoped>\n",
       "    .dataframe tbody tr th:only-of-type {\n",
       "        vertical-align: middle;\n",
       "    }\n",
       "\n",
       "    .dataframe tbody tr th {\n",
       "        vertical-align: top;\n",
       "    }\n",
       "\n",
       "    .dataframe thead th {\n",
       "        text-align: right;\n",
       "    }\n",
       "</style>\n",
       "<table border=\"1\" class=\"dataframe\">\n",
       "  <thead>\n",
       "    <tr style=\"text-align: right;\">\n",
       "      <th></th>\n",
       "      <th>County Name</th>\n",
       "      <th># Black or African American</th>\n",
       "      <th># Native American or Alaska Native</th>\n",
       "      <th># of Asian</th>\n",
       "      <th># of Pacific Islander</th>\n",
       "      <th># of Two or More</th>\n",
       "      <th># of Hispanic or Latino</th>\n",
       "      <th># of White</th>\n",
       "    </tr>\n",
       "  </thead>\n",
       "  <tbody>\n",
       "    <tr>\n",
       "      <th>0</th>\n",
       "      <td>Alameda County</td>\n",
       "      <td>195782.0</td>\n",
       "      <td>18947.0</td>\n",
       "      <td>445247.0</td>\n",
       "      <td>15789.0</td>\n",
       "      <td>82102.0</td>\n",
       "      <td>358408.0</td>\n",
       "      <td>524192.0</td>\n",
       "    </tr>\n",
       "    <tr>\n",
       "      <th>1</th>\n",
       "      <td>Solano County</td>\n",
       "      <td>63293.0</td>\n",
       "      <td>5522.0</td>\n",
       "      <td>65417.0</td>\n",
       "      <td>4248.0</td>\n",
       "      <td>28461.0</td>\n",
       "      <td>107047.0</td>\n",
       "      <td>169915.0</td>\n",
       "    </tr>\n",
       "    <tr>\n",
       "      <th>2</th>\n",
       "      <td>Santa Clara County</td>\n",
       "      <td>53999.0</td>\n",
       "      <td>26069.0</td>\n",
       "      <td>634956.0</td>\n",
       "      <td>9310.0</td>\n",
       "      <td>74482.0</td>\n",
       "      <td>499027.0</td>\n",
       "      <td>631232.0</td>\n",
       "    </tr>\n",
       "    <tr>\n",
       "      <th>3</th>\n",
       "      <td>San Mateo County</td>\n",
       "      <td>22421.0</td>\n",
       "      <td>6726.0</td>\n",
       "      <td>201043.0</td>\n",
       "      <td>11958.0</td>\n",
       "      <td>32884.0</td>\n",
       "      <td>189833.0</td>\n",
       "      <td>307170.0</td>\n",
       "    </tr>\n",
       "    <tr>\n",
       "      <th>4</th>\n",
       "      <td>Sacramento County</td>\n",
       "      <td>157910.0</td>\n",
       "      <td>23394.0</td>\n",
       "      <td>225168.0</td>\n",
       "      <td>17546.0</td>\n",
       "      <td>86266.0</td>\n",
       "      <td>326055.0</td>\n",
       "      <td>691588.0</td>\n",
       "    </tr>\n",
       "  </tbody>\n",
       "</table>\n",
       "</div>"
      ],
      "text/plain": [
       "          County Name  # Black or African American  \\\n",
       "0      Alameda County                     195782.0   \n",
       "1       Solano County                      63293.0   \n",
       "2  Santa Clara County                      53999.0   \n",
       "3    San Mateo County                      22421.0   \n",
       "4   Sacramento County                     157910.0   \n",
       "\n",
       "   # Native American or Alaska Native  # of Asian  # of Pacific Islander  \\\n",
       "0                             18947.0    445247.0                15789.0   \n",
       "1                              5522.0     65417.0                 4248.0   \n",
       "2                             26069.0    634956.0                 9310.0   \n",
       "3                              6726.0    201043.0                11958.0   \n",
       "4                             23394.0    225168.0                17546.0   \n",
       "\n",
       "   # of Two or More  # of Hispanic or Latino  # of White  \n",
       "0           82102.0                 358408.0    524192.0  \n",
       "1           28461.0                 107047.0    169915.0  \n",
       "2           74482.0                 499027.0    631232.0  \n",
       "3           32884.0                 189833.0    307170.0  \n",
       "4           86266.0                 326055.0    691588.0  "
      ]
     },
     "execution_count": 61,
     "metadata": {},
     "output_type": "execute_result"
    }
   ],
   "source": [
    "combined_df = combined_df[['County Name','# Black or African American', '# Native American or Alaska Native', '# of Asian', '# of Pacific Islander', '# of Two or More', '# of Hispanic or Latino', '# of White']]\n",
    "combined_df.head()"
   ]
  },
  {
   "cell_type": "markdown",
   "metadata": {},
   "source": [
    "# Load"
   ]
  },
  {
   "cell_type": "code",
   "execution_count": null,
   "metadata": {},
   "outputs": [],
   "source": []
  }
 ],
 "metadata": {
  "kernelspec": {
   "display_name": "Python 3",
   "language": "python",
   "name": "python3"
  },
  "language_info": {
   "codemirror_mode": {
    "name": "ipython",
    "version": 3
   },
   "file_extension": ".py",
   "mimetype": "text/x-python",
   "name": "python",
   "nbconvert_exporter": "python",
   "pygments_lexer": "ipython3",
   "version": "3.7.3"
  }
 },
 "nbformat": 4,
 "nbformat_minor": 2
}
